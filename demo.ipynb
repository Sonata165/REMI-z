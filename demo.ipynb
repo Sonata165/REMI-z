{
 "cells": [
  {
   "cell_type": "code",
   "execution_count": 1,
   "metadata": {},
   "outputs": [],
   "source": [
    "# Import the MultiTrack class from remi_z\n",
    "from remi_z import MultiTrack"
   ]
  },
  {
   "cell_type": "code",
   "execution_count": 2,
   "metadata": {},
   "outputs": [
    {
     "data": {
      "text/plain": [
       "MultiTrack: 83 bars"
      ]
     },
     "execution_count": 2,
     "metadata": {},
     "output_type": "execute_result"
    }
   ],
   "source": [
    "# Create a MultiTrack object from a MIDI file\n",
    "midi_fp = '/Users/sonata/Code/REMI-z/_misc/4bros.mid'\n",
    "mt = MultiTrack.from_midi(midi_fp)\n",
    "mt"
   ]
  },
  {
   "cell_type": "code",
   "execution_count": 3,
   "metadata": {},
   "outputs": [
    {
     "name": "stdout",
     "output_type": "stream",
     "text": [
      "Bar 4: 7 insts\n",
      "MultiTrack: 3 bars\n"
     ]
    }
   ],
   "source": [
    "# The MultiTrack can be sliced to obtain desired bars\n",
    "\n",
    "print(mt[4])\n",
    "print(mt[5:8])"
   ]
  },
  {
   "cell_type": "code",
   "execution_count": 4,
   "metadata": {},
   "outputs": [
    {
     "name": "stdout",
     "output_type": "stream",
     "text": [
      "(4, 4)\n",
      "207.0\n"
     ]
    }
   ],
   "source": [
    "# Inspect time signature and tempo\n",
    "bar = mt[10]\n",
    "print(bar.time_signature)\n",
    "print(bar.tempo)"
   ]
  },
  {
   "cell_type": "code",
   "execution_count": 5,
   "metadata": {},
   "outputs": [
    {
     "name": "stdout",
     "output_type": "stream",
     "text": [
      "s-9 t-44 i-65 o-0 p-61 d-6 o-7 p-65 d-4 o-12 p-68 d-6 o-18 p-72 d-4 o-23 p-71\n",
      "d-7 o-30 p-67 d-6 o-35 p-63 d-7 o-43 p-61 d-3 o-47 p-60 d-7 i-66 o-0 p-58 d-7\n",
      "p-56 d-7 o-7 p-58 d-3 o-8 p-61 d-3 o-12 p-65 d-6 p-61 d-7 o-19 p-68 d-3 p-65 d-4\n",
      "o-23 p-67 d-7 o-24 p-64 d-6 o-31 p-64 d-3 p-61 d-4 o-35 p-61 d-7 p-59 d-7 o-43\n",
      "p-59 d-3 p-55 d-3 o-47 p-56 d-8 p-53 d-8 i-67 o-0 p-53 d-6 o-7 p-56 d-5 o-12\n",
      "p-58 d-7 o-19 p-62 d-4 o-24 p-61 d-7 o-31 p-59 d-3 o-35 p-55 d-7 o-42 p-52 d-4\n",
      "o-47 p-51 d-8 i-32 o-11 p-38 d-11 o-23 p-39 d-11 o-34 p-43 d-10 o-46 p-44 d-11\n",
      "i-128 o-10 p-172 d-1 o-11 p-179 d-1 o-20 p-179 d-1 o-22 p-179 d-2 o-34 p-172 d-1\n",
      "o-35 p-179 d-1 o-44 p-179 d-1 o-47 p-179 d-2 b-1 s-9 t-44 i-65 o-7 p-63 d-4 o-11\n",
      "p-67 d-8 o-19 p-70 d-5 o-31 p-68 d-5 o-42 p-63 d-4 o-46 p-67 d-8 i-66 o-7 p-60\n",
      "d-4 o-8 p-56 d-3 o-11 p-63 d-7 o-12 p-60 d-6 o-19 p-67 d-5 o-20 p-63 d-4 o-32\n",
      "p-65 d-3 p-63 d-4 o-43 p-56 d-4 o-44 p-60 d-3 o-47 p-58 d-8 i-67 o-7 p-53 d-3\n",
      "o-11 p-56 d-8 o-20 p-60 d-4 o-30 p-60 d-6 o-44 p-53 d-3 i-32 o-9 p-36 d-11 o-21\n",
      "p-39 d-12 o-34 p-42 d-11 o-46 p-41 d-10 i-128 o-10 p-172 d-1 o-11 p-179 d-1 o-19\n",
      "p-179 d-1 o-22 p-179 d-1 o-31 p-179 d-2 o-33 p-172 d-1 o-34 p-179 d-1 o-44 p-179\n",
      "d-1 o-47 p-179 d-2 b-1\n"
     ]
    }
   ],
   "source": [
    "# Convert to REMI-z format\n",
    "import textwrap # for pretty printing\n",
    "\n",
    "clip = mt[10:12]\n",
    "remiz = clip.to_remiz_str(with_ts=True, with_tempo=True, with_velocity=False)\n",
    "wrapped_output = textwrap.fill(remiz, width=80)\n",
    "print(wrapped_output)"
   ]
  },
  {
   "cell_type": "code",
   "execution_count": 6,
   "metadata": {},
   "outputs": [
    {
     "name": "stdout",
     "output_type": "stream",
     "text": [
      "s-9 t-44 i-65 o-0 p-65 d-6 o-7 p-69 d-4 o-12 p-72 d-6 o-18 p-76 d-4 o-23 p-75\n",
      "d-7 o-30 p-71 d-6 o-35 p-67 d-7 o-43 p-65 d-3 o-47 p-64 d-7 i-66 o-0 p-62 d-7\n",
      "p-60 d-7 o-7 p-62 d-3 o-8 p-65 d-3 o-12 p-69 d-6 p-65 d-7 o-19 p-72 d-3 p-69 d-4\n",
      "o-23 p-71 d-7 o-24 p-68 d-6 o-31 p-68 d-3 p-65 d-4 o-35 p-65 d-7 p-63 d-7 o-43\n",
      "p-63 d-3 p-59 d-3 o-47 p-60 d-8 p-57 d-8 i-67 o-0 p-57 d-6 o-7 p-60 d-5 o-12\n",
      "p-62 d-7 o-19 p-66 d-4 o-24 p-65 d-7 o-31 p-63 d-3 o-35 p-59 d-7 o-42 p-56 d-4\n",
      "o-47 p-55 d-8 i-32 o-11 p-42 d-11 o-23 p-43 d-11 o-34 p-47 d-10 o-46 p-48 d-11\n",
      "i-128 o-10 p-172 d-1 o-11 p-179 d-1 o-20 p-179 d-1 o-22 p-179 d-2 o-34 p-172 d-1\n",
      "o-35 p-179 d-1 o-44 p-179 d-1 o-47 p-179 d-2 b-1 s-9 t-44 i-65 o-7 p-67 d-4 o-11\n",
      "p-71 d-8 o-19 p-74 d-5 o-31 p-72 d-5 o-42 p-67 d-4 o-46 p-71 d-8 i-66 o-7 p-64\n",
      "d-4 o-8 p-60 d-3 o-11 p-67 d-7 o-12 p-64 d-6 o-19 p-71 d-5 o-20 p-67 d-4 o-32\n",
      "p-69 d-3 p-67 d-4 o-43 p-60 d-4 o-44 p-64 d-3 o-47 p-62 d-8 i-67 o-7 p-57 d-3\n",
      "o-11 p-60 d-8 o-20 p-64 d-4 o-30 p-64 d-6 o-44 p-57 d-3 i-32 o-9 p-40 d-11 o-21\n",
      "p-43 d-12 o-34 p-46 d-11 o-46 p-45 d-10 i-128 o-10 p-172 d-1 o-11 p-179 d-1 o-19\n",
      "p-179 d-1 o-22 p-179 d-1 o-31 p-179 d-2 o-33 p-172 d-1 o-34 p-179 d-1 o-44 p-179\n",
      "d-1 o-47 p-179 d-2 b-1\n"
     ]
    }
   ],
   "source": [
    "# Normalize key: convert to C major or A minor of the nearest octave\n",
    "clip.normalize_pitch()\n",
    "remiz = clip.to_remiz_str(with_ts=True, with_tempo=True, with_velocity=False)\n",
    "wrapped_output = textwrap.fill(remiz, width=80)\n",
    "print(wrapped_output)"
   ]
  },
  {
   "cell_type": "code",
   "execution_count": 8,
   "metadata": {},
   "outputs": [
    {
     "name": "stdout",
     "output_type": "stream",
     "text": [
      "This clip is in major key\n",
      "If apply pitch shift of 0 semitones, it will be in C major or A minor\n"
     ]
    }
   ],
   "source": [
    "# Create another MultiTrack object from REMI-z string\n",
    "mt2 = MultiTrack.from_remiz_str(remiz)\n",
    "is_major, pitch_shift = mt2.detect_key()\n",
    "print(f'This clip is in {\"major\" if is_major else \"minor\"} key')\n",
    "print(f'If apply pitch shift of {pitch_shift} semitones, it will be in C major or A minor')"
   ]
  },
  {
   "cell_type": "code",
   "execution_count": 9,
   "metadata": {},
   "outputs": [
    {
     "name": "stdout",
     "output_type": "stream",
     "text": [
      "MIDI file successfully written to /Users/sonata/Code/REMI-z/_misc/4bros_clip.mid\n"
     ]
    }
   ],
   "source": [
    "# Save to MIDI file\n",
    "out_fp = midi_fp.replace('.mid', '_clip.mid')\n",
    "mt2.to_midi(out_fp)"
   ]
  }
 ],
 "metadata": {
  "language_info": {
   "name": "python"
  }
 },
 "nbformat": 4,
 "nbformat_minor": 2
}
